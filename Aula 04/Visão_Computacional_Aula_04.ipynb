{
  "nbformat": 4,
  "nbformat_minor": 0,
  "metadata": {
    "colab": {
      "name": "Visão_Computacional_Aula_04.ipynb",
      "provenance": [],
      "collapsed_sections": [],
      "include_colab_link": true
    },
    "kernelspec": {
      "name": "python3",
      "display_name": "Python 3"
    }
  },
  "cells": [
    {
      "cell_type": "markdown",
      "metadata": {
        "id": "view-in-github",
        "colab_type": "text"
      },
      "source": [
        "<a href=\"https://colab.research.google.com/github/manucastilla/VisaoComputacional_aulas/blob/master/Aula%2004/Visa%CC%83o_Computacional_Aula_04.ipynb\" target=\"_parent\"><img src=\"https://colab.research.google.com/assets/colab-badge.svg\" alt=\"Open In Colab\"/></a>"
      ]
    },
    {
      "cell_type": "markdown",
      "metadata": {
        "id": "nxY7Hh85nCjZ"
      },
      "source": [
        "## **VISÃO COMPUTACIONAL - AULA 04**\n",
        "\n",
        "**Objetivos da aula:**\n",
        "\n",
        "*   conhecer o software G6-iris-recognition\n",
        "*   praticar com o software G6-iris-recognition\n",
        "*   especificar a competição de reconhecimento de íris dentro do curso\n",
        "\n",
        "\n",
        "\n",
        "\n",
        "\n",
        "\n",
        "\n"
      ]
    },
    {
      "cell_type": "markdown",
      "metadata": {
        "id": "lcnbn_ynorRn"
      },
      "source": [
        "**Instalação do Módulo G6 (Gate 6)**\n",
        "\n",
        "Documentação do Módulo G6: https://pypi.org/project/G6-iris-recognition/ \n",
        "\n",
        "Para instalar o módulo de reconhecimento de íris G6, seguir os passos abaixo:\n",
        "\n",
        "1. Atualizar o módulo scikit-image do Google Colab:"
      ]
    },
    {
      "cell_type": "code",
      "metadata": {
        "id": "7GwUochDyKk-",
        "outputId": "ea651b27-44e2-4757-b45d-460f05660cca",
        "colab": {
          "base_uri": "https://localhost:8080/"
        }
      },
      "source": [
        "!pip3 install scikit-image --upgrade"
      ],
      "execution_count": 1,
      "outputs": [
        {
          "output_type": "stream",
          "name": "stdout",
          "text": [
            "Requirement already satisfied: scikit-image in /usr/local/lib/python3.7/dist-packages (0.16.2)\n",
            "Collecting scikit-image\n",
            "  Downloading scikit_image-0.18.3-cp37-cp37m-manylinux_2_5_x86_64.manylinux1_x86_64.whl (29.2 MB)\n",
            "\u001b[K     |████████████████████████████████| 29.2 MB 77 kB/s \n",
            "\u001b[?25hRequirement already satisfied: networkx>=2.0 in /usr/local/lib/python3.7/dist-packages (from scikit-image) (2.6.2)\n",
            "Requirement already satisfied: tifffile>=2019.7.26 in /usr/local/lib/python3.7/dist-packages (from scikit-image) (2021.8.8)\n",
            "Requirement already satisfied: pillow!=7.1.0,!=7.1.1,>=4.3.0 in /usr/local/lib/python3.7/dist-packages (from scikit-image) (7.1.2)\n",
            "Requirement already satisfied: scipy>=1.0.1 in /usr/local/lib/python3.7/dist-packages (from scikit-image) (1.4.1)\n",
            "Requirement already satisfied: matplotlib!=3.0.0,>=2.0.0 in /usr/local/lib/python3.7/dist-packages (from scikit-image) (3.2.2)\n",
            "Requirement already satisfied: numpy>=1.16.5 in /usr/local/lib/python3.7/dist-packages (from scikit-image) (1.19.5)\n",
            "Requirement already satisfied: PyWavelets>=1.1.1 in /usr/local/lib/python3.7/dist-packages (from scikit-image) (1.1.1)\n",
            "Requirement already satisfied: imageio>=2.3.0 in /usr/local/lib/python3.7/dist-packages (from scikit-image) (2.4.1)\n",
            "Requirement already satisfied: pyparsing!=2.0.4,!=2.1.2,!=2.1.6,>=2.0.1 in /usr/local/lib/python3.7/dist-packages (from matplotlib!=3.0.0,>=2.0.0->scikit-image) (2.4.7)\n",
            "Requirement already satisfied: cycler>=0.10 in /usr/local/lib/python3.7/dist-packages (from matplotlib!=3.0.0,>=2.0.0->scikit-image) (0.10.0)\n",
            "Requirement already satisfied: python-dateutil>=2.1 in /usr/local/lib/python3.7/dist-packages (from matplotlib!=3.0.0,>=2.0.0->scikit-image) (2.8.2)\n",
            "Requirement already satisfied: kiwisolver>=1.0.1 in /usr/local/lib/python3.7/dist-packages (from matplotlib!=3.0.0,>=2.0.0->scikit-image) (1.3.1)\n",
            "Requirement already satisfied: six in /usr/local/lib/python3.7/dist-packages (from cycler>=0.10->matplotlib!=3.0.0,>=2.0.0->scikit-image) (1.15.0)\n",
            "Installing collected packages: scikit-image\n",
            "  Attempting uninstall: scikit-image\n",
            "    Found existing installation: scikit-image 0.16.2\n",
            "    Uninstalling scikit-image-0.16.2:\n",
            "      Successfully uninstalled scikit-image-0.16.2\n",
            "\u001b[31mERROR: pip's dependency resolver does not currently take into account all the packages that are installed. This behaviour is the source of the following dependency conflicts.\n",
            "albumentations 0.1.12 requires imgaug<0.2.7,>=0.2.5, but you have imgaug 0.2.9 which is incompatible.\u001b[0m\n",
            "Successfully installed scikit-image-0.18.3\n"
          ]
        }
      ]
    },
    {
      "cell_type": "markdown",
      "metadata": {
        "id": "zTCiXsAqyNxV"
      },
      "source": [
        "   2. Fazer um clone do módulo G6 Iris Recognition do repositório abaixo:"
      ]
    },
    {
      "cell_type": "code",
      "metadata": {
        "id": "OedhTHPUyZBS",
        "outputId": "d9634254-a7e2-455d-e352-a0ea9f04c7d8",
        "colab": {
          "base_uri": "https://localhost:8080/"
        }
      },
      "source": [
        "!git clone https://github.com/lucianosilva-github/G6_iris_recognition.git"
      ],
      "execution_count": 2,
      "outputs": [
        {
          "output_type": "stream",
          "name": "stdout",
          "text": [
            "Cloning into 'G6_iris_recognition'...\n",
            "remote: Enumerating objects: 26, done.\u001b[K\n",
            "remote: Counting objects: 100% (26/26), done.\u001b[K\n",
            "remote: Compressing objects: 100% (26/26), done.\u001b[K\n",
            "remote: Total 26 (delta 2), reused 0 (delta 0), pack-reused 0\u001b[K\n",
            "Unpacking objects: 100% (26/26), done.\n"
          ]
        }
      ]
    },
    {
      "cell_type": "markdown",
      "metadata": {
        "id": "3lgxvMV99ynt"
      },
      "source": [
        "   3. Fazer um clone do banco de imagens de iris:"
      ]
    },
    {
      "cell_type": "code",
      "metadata": {
        "id": "qtiGBXZq93yC",
        "outputId": "21c708e1-3201-4201-d311-479bc1f69e1b",
        "colab": {
          "base_uri": "https://localhost:8080/"
        }
      },
      "source": [
        "!git clone https://github.com/lucianosilva-github/images-tutorial.git"
      ],
      "execution_count": 3,
      "outputs": [
        {
          "output_type": "stream",
          "name": "stdout",
          "text": [
            "Cloning into 'images-tutorial'...\n",
            "remote: Enumerating objects: 23, done.\u001b[K\n",
            "remote: Counting objects: 100% (23/23), done.\u001b[K\n",
            "remote: Compressing objects: 100% (22/22), done.\u001b[K\n",
            "remote: Total 23 (delta 0), reused 0 (delta 0), pack-reused 0\u001b[K\n",
            "Unpacking objects: 100% (23/23), done.\n"
          ]
        }
      ]
    },
    {
      "cell_type": "markdown",
      "metadata": {
        "id": "QRkYiS_t9J8E"
      },
      "source": [
        "   4. Criar o arquivo vazio model.pickle \n",
        "  "
      ]
    },
    {
      "cell_type": "markdown",
      "metadata": {
        "id": "nvi_ksCho9_f"
      },
      "source": [
        "**Uso do Módulo G6 (Gate 6)**\n",
        "\n",
        "Existem três passos para uso do módulo de reconhecimento de íris G6:\n",
        "\n",
        "1.   **Criação do arquivo vazio de modelo de reconhecimento** (model.pickle), que será preenchido pelo módulo G6. \n",
        "\n",
        "2.   **Construção de um modelo de reconhecimento** (model.pickle), tendo como base um banco de dados de imagens. Este banco deve ser organizado dentro de uma pasta (images-tutorial, no nosso exemplo) e, o conjunto de íris de cada pessoa, deve estar dentro de uma pasta. Por exemplo, images-tutorial/0002 irá indicar o conjunto de íris da pessoa 0002.\n",
        "3.   **Uso do modelo de reconhecimento** (model.pickle), onde colocamos a imagem que queremos reconhecer. No exemplo abaixo, estamos tentando reconhecer a íris da primeira pessoa, através do arquivo images-tutorial/0002/0002_000.bmp.\n",
        "\n",
        "\n",
        "\n",
        "\n"
      ]
    },
    {
      "cell_type": "code",
      "metadata": {
        "id": "cn-WwCzrBplr",
        "outputId": "77100ca2-b747-43d5-b01f-b6557255f1b7",
        "colab": {
          "base_uri": "https://localhost:8080/"
        }
      },
      "source": [
        "import G6_iris_recognition\n",
        "G6_iris_recognition.iris_model_train(\"images-tutorial\",\"model.pickle\")"
      ],
      "execution_count": 5,
      "outputs": [
        {
          "output_type": "stream",
          "name": "stdout",
          "text": [
            "directory_list ['images-tutorial/.git/objects/76', 'images-tutorial/.git/objects/32', 'images-tutorial/.git/objects/b1', 'images-tutorial/.git/objects/eb', 'images-tutorial/.git/objects/09', 'images-tutorial/.git/objects/ab', 'images-tutorial/.git/objects/3d', 'images-tutorial/.git/objects/b8', 'images-tutorial/.git/objects/71', 'images-tutorial/.git/objects/c3', 'images-tutorial/.git/objects/61', 'images-tutorial/.git/objects/c5', 'images-tutorial/.git/objects/f5', 'images-tutorial/.git/objects/pack', 'images-tutorial/.git/objects/80', 'images-tutorial/.git/objects/6a', 'images-tutorial/.git/objects/70', 'images-tutorial/.git/objects/f1', 'images-tutorial/.git/objects/d0', 'images-tutorial/.git/objects/58', 'images-tutorial/.git/objects/e3', 'images-tutorial/.git/objects/info', 'images-tutorial/.git/objects/0c', 'images-tutorial/.git/objects/56', 'images-tutorial/.git/objects/57', 'images-tutorial/.git/refs/remotes/origin', 'images-tutorial/.git/refs/remotes', 'images-tutorial/.git/refs/heads', 'images-tutorial/.git/refs/tags', 'images-tutorial/.git/logs/refs/remotes/origin', 'images-tutorial/.git/logs/refs/remotes', 'images-tutorial/.git/logs/refs/heads', 'images-tutorial/.git/logs/refs', 'images-tutorial/.git/objects', 'images-tutorial/.git/refs', 'images-tutorial/.git/logs', 'images-tutorial/.git/branches', 'images-tutorial/.git/hooks', 'images-tutorial/.git/info', 'images-tutorial/0002', 'images-tutorial/.git']\n",
            "name 76\n",
            "path_to_image images-tutorial/.git/objects/76/f6267b3a7f725eb412bd71ea7214f45536826a\n",
            "rectangle expression2 OpenCV(4.1.2) /io/opencv/modules/imgproc/src/color.cpp:182: error: (-215:Assertion failed) !_src.empty() in function 'cvtColor'\n",
            "\n",
            "invalid_image 76\n",
            "name 32\n",
            "path_to_image images-tutorial/.git/objects/32/99b592090de79351bc585faef4d63369083620\n",
            "rectangle expression2 OpenCV(4.1.2) /io/opencv/modules/imgproc/src/color.cpp:182: error: (-215:Assertion failed) !_src.empty() in function 'cvtColor'\n",
            "\n",
            "invalid_image 32\n",
            "name b1\n",
            "path_to_image images-tutorial/.git/objects/b1/657592fc0a716bfc4959a1475663e425d3c4c1\n",
            "rectangle expression2 OpenCV(4.1.2) /io/opencv/modules/imgproc/src/color.cpp:182: error: (-215:Assertion failed) !_src.empty() in function 'cvtColor'\n",
            "\n",
            "invalid_image b1\n",
            "name eb\n",
            "path_to_image images-tutorial/.git/objects/eb/8a47855a28d160b3e92a3d1523b47c9276ab92\n",
            "rectangle expression2 OpenCV(4.1.2) /io/opencv/modules/imgproc/src/color.cpp:182: error: (-215:Assertion failed) !_src.empty() in function 'cvtColor'\n",
            "\n",
            "invalid_image eb\n",
            "name 09\n",
            "path_to_image images-tutorial/.git/objects/09/4032c6599aa7f1df8deef52a357ddbb51ce5d6\n",
            "rectangle expression2 OpenCV(4.1.2) /io/opencv/modules/imgproc/src/color.cpp:182: error: (-215:Assertion failed) !_src.empty() in function 'cvtColor'\n",
            "\n",
            "invalid_image 09\n",
            "name ab\n",
            "path_to_image images-tutorial/.git/objects/ab/d42a04fd78d9f68021b20a70b34c07f3244400\n",
            "rectangle expression2 OpenCV(4.1.2) /io/opencv/modules/imgproc/src/color.cpp:182: error: (-215:Assertion failed) !_src.empty() in function 'cvtColor'\n",
            "\n",
            "invalid_image ab\n",
            "name 3d\n",
            "path_to_image images-tutorial/.git/objects/3d/e918cad7b3301f4bbe7fb770b23f2fd54bcf6e\n",
            "rectangle expression2 OpenCV(4.1.2) /io/opencv/modules/imgproc/src/color.cpp:182: error: (-215:Assertion failed) !_src.empty() in function 'cvtColor'\n",
            "\n",
            "invalid_image 3d\n",
            "name b8\n",
            "path_to_image images-tutorial/.git/objects/b8/0610c499dff02728c95c2d427daaab4112168a\n",
            "rectangle expression2 OpenCV(4.1.2) /io/opencv/modules/imgproc/src/color.cpp:182: error: (-215:Assertion failed) !_src.empty() in function 'cvtColor'\n",
            "\n",
            "invalid_image b8\n",
            "name 71\n",
            "path_to_image images-tutorial/.git/objects/71/090cb3f017e04c6ab6271e37da40f31516fb47\n",
            "rectangle expression2 OpenCV(4.1.2) /io/opencv/modules/imgproc/src/color.cpp:182: error: (-215:Assertion failed) !_src.empty() in function 'cvtColor'\n",
            "\n",
            "invalid_image 71\n",
            "name c3\n",
            "path_to_image images-tutorial/.git/objects/c3/1a6a63200df6053c3fe69cac7350f420fe1478\n",
            "rectangle expression2 OpenCV(4.1.2) /io/opencv/modules/imgproc/src/color.cpp:182: error: (-215:Assertion failed) !_src.empty() in function 'cvtColor'\n",
            "\n",
            "invalid_image c3\n",
            "name 61\n",
            "path_to_image images-tutorial/.git/objects/61/f42d5f56cd60eb8e140be8f73728d8f3c86488\n",
            "rectangle expression2 OpenCV(4.1.2) /io/opencv/modules/imgproc/src/color.cpp:182: error: (-215:Assertion failed) !_src.empty() in function 'cvtColor'\n",
            "\n",
            "invalid_image 61\n",
            "name c5\n",
            "path_to_image images-tutorial/.git/objects/c5/db2597ef721a67e302f4afb74c5910c70e5c67\n",
            "rectangle expression2 OpenCV(4.1.2) /io/opencv/modules/imgproc/src/color.cpp:182: error: (-215:Assertion failed) !_src.empty() in function 'cvtColor'\n",
            "\n",
            "invalid_image c5\n",
            "name f5\n",
            "path_to_image images-tutorial/.git/objects/f5/23b984f3b8d29aaa5aed982b55a797fabbb8d4\n",
            "rectangle expression2 OpenCV(4.1.2) /io/opencv/modules/imgproc/src/color.cpp:182: error: (-215:Assertion failed) !_src.empty() in function 'cvtColor'\n",
            "\n",
            "invalid_image f5\n",
            "name pack\n",
            "name 80\n",
            "path_to_image images-tutorial/.git/objects/80/6022d68de63a1ef2e202010e0aa40c64522a7c\n",
            "rectangle expression2 OpenCV(4.1.2) /io/opencv/modules/imgproc/src/color.cpp:182: error: (-215:Assertion failed) !_src.empty() in function 'cvtColor'\n",
            "\n",
            "invalid_image 80\n",
            "name 6a\n",
            "path_to_image images-tutorial/.git/objects/6a/5efb703ead3dfa92442c3ba762c57a187cfbe0\n",
            "rectangle expression2 OpenCV(4.1.2) /io/opencv/modules/imgproc/src/color.cpp:182: error: (-215:Assertion failed) !_src.empty() in function 'cvtColor'\n",
            "\n",
            "invalid_image 6a\n",
            "name 70\n",
            "path_to_image images-tutorial/.git/objects/70/cd5bfef1af2b2246bb0b87d294fdec43a2ce1c\n",
            "rectangle expression2 OpenCV(4.1.2) /io/opencv/modules/imgproc/src/color.cpp:182: error: (-215:Assertion failed) !_src.empty() in function 'cvtColor'\n",
            "\n",
            "invalid_image 70\n",
            "name f1\n",
            "path_to_image images-tutorial/.git/objects/f1/be9e5c440ec9bd7712c21e420ab583b1698f58\n",
            "rectangle expression2 OpenCV(4.1.2) /io/opencv/modules/imgproc/src/color.cpp:182: error: (-215:Assertion failed) !_src.empty() in function 'cvtColor'\n",
            "\n",
            "invalid_image f1\n",
            "name d0\n",
            "path_to_image images-tutorial/.git/objects/d0/9144eef3eb55d7b77709dde1266dc6da8ff004\n",
            "rectangle expression2 OpenCV(4.1.2) /io/opencv/modules/imgproc/src/color.cpp:182: error: (-215:Assertion failed) !_src.empty() in function 'cvtColor'\n",
            "\n",
            "invalid_image d0\n",
            "name 58\n",
            "path_to_image images-tutorial/.git/objects/58/cd8ed390105238937acc43e0ffbbfe300b091b\n",
            "rectangle expression2 OpenCV(4.1.2) /io/opencv/modules/imgproc/src/color.cpp:182: error: (-215:Assertion failed) !_src.empty() in function 'cvtColor'\n",
            "\n",
            "invalid_image 58\n",
            "name e3\n",
            "path_to_image images-tutorial/.git/objects/e3/4fe3328eb4a4208ee88cce7a91c97a7fb03d42\n",
            "rectangle expression2 OpenCV(4.1.2) /io/opencv/modules/imgproc/src/color.cpp:182: error: (-215:Assertion failed) !_src.empty() in function 'cvtColor'\n",
            "\n",
            "invalid_image e3\n",
            "name info\n",
            "name 0c\n",
            "path_to_image images-tutorial/.git/objects/0c/80ded5b754a460f7a2317df98ef669e4f4083b\n",
            "rectangle expression2 OpenCV(4.1.2) /io/opencv/modules/imgproc/src/color.cpp:182: error: (-215:Assertion failed) !_src.empty() in function 'cvtColor'\n",
            "\n",
            "invalid_image 0c\n",
            "name 56\n",
            "path_to_image images-tutorial/.git/objects/56/c7120f3942049f3e6e3ad72c2ae1a94a9ae95a\n",
            "rectangle expression2 OpenCV(4.1.2) /io/opencv/modules/imgproc/src/color.cpp:182: error: (-215:Assertion failed) !_src.empty() in function 'cvtColor'\n",
            "\n",
            "invalid_image 56\n",
            "name 57\n",
            "path_to_image images-tutorial/.git/objects/57/3cb53eec5bb2c6eb0cc77c278d4c5e9d695b34\n",
            "rectangle expression2 OpenCV(4.1.2) /io/opencv/modules/imgproc/src/color.cpp:182: error: (-215:Assertion failed) !_src.empty() in function 'cvtColor'\n",
            "\n",
            "invalid_image 57\n",
            "name origin\n",
            "path_to_image images-tutorial/.git/refs/remotes/origin/HEAD\n",
            "rectangle expression2 OpenCV(4.1.2) /io/opencv/modules/imgproc/src/color.cpp:182: error: (-215:Assertion failed) !_src.empty() in function 'cvtColor'\n",
            "\n",
            "invalid_image origin\n",
            "name remotes\n",
            "path_to_image images-tutorial/.git/refs/remotes/origin/HEAD\n",
            "rectangle expression2 OpenCV(4.1.2) /io/opencv/modules/imgproc/src/color.cpp:182: error: (-215:Assertion failed) !_src.empty() in function 'cvtColor'\n",
            "\n",
            "invalid_image remotes\n",
            "name heads\n",
            "path_to_image images-tutorial/.git/refs/heads/main\n",
            "rectangle expression2 OpenCV(4.1.2) /io/opencv/modules/imgproc/src/color.cpp:182: error: (-215:Assertion failed) !_src.empty() in function 'cvtColor'\n",
            "\n",
            "invalid_image heads\n",
            "name tags\n",
            "name origin\n",
            "path_to_image images-tutorial/.git/logs/refs/remotes/origin/HEAD\n",
            "rectangle expression2 OpenCV(4.1.2) /io/opencv/modules/imgproc/src/color.cpp:182: error: (-215:Assertion failed) !_src.empty() in function 'cvtColor'\n",
            "\n",
            "invalid_image origin\n",
            "name remotes\n",
            "path_to_image images-tutorial/.git/logs/refs/remotes/origin/HEAD\n",
            "rectangle expression2 OpenCV(4.1.2) /io/opencv/modules/imgproc/src/color.cpp:182: error: (-215:Assertion failed) !_src.empty() in function 'cvtColor'\n",
            "\n",
            "invalid_image remotes\n",
            "name heads\n",
            "path_to_image images-tutorial/.git/logs/refs/heads/main\n",
            "rectangle expression2 OpenCV(4.1.2) /io/opencv/modules/imgproc/src/color.cpp:182: error: (-215:Assertion failed) !_src.empty() in function 'cvtColor'\n",
            "\n",
            "invalid_image heads\n",
            "name refs\n",
            "path_to_image images-tutorial/.git/logs/refs/remotes/origin/HEAD\n",
            "rectangle expression2 OpenCV(4.1.2) /io/opencv/modules/imgproc/src/color.cpp:182: error: (-215:Assertion failed) !_src.empty() in function 'cvtColor'\n",
            "\n",
            "path_to_image images-tutorial/.git/logs/refs/heads/main\n",
            "rectangle expression2 OpenCV(4.1.2) /io/opencv/modules/imgproc/src/color.cpp:182: error: (-215:Assertion failed) !_src.empty() in function 'cvtColor'\n",
            "\n",
            "invalid_image refs\n",
            "name objects\n",
            "path_to_image images-tutorial/.git/objects/76/f6267b3a7f725eb412bd71ea7214f45536826a\n",
            "rectangle expression2 OpenCV(4.1.2) /io/opencv/modules/imgproc/src/color.cpp:182: error: (-215:Assertion failed) !_src.empty() in function 'cvtColor'\n",
            "\n",
            "path_to_image images-tutorial/.git/objects/32/99b592090de79351bc585faef4d63369083620\n",
            "rectangle expression2 OpenCV(4.1.2) /io/opencv/modules/imgproc/src/color.cpp:182: error: (-215:Assertion failed) !_src.empty() in function 'cvtColor'\n",
            "\n",
            "path_to_image images-tutorial/.git/objects/b1/657592fc0a716bfc4959a1475663e425d3c4c1\n",
            "rectangle expression2 OpenCV(4.1.2) /io/opencv/modules/imgproc/src/color.cpp:182: error: (-215:Assertion failed) !_src.empty() in function 'cvtColor'\n",
            "\n",
            "path_to_image images-tutorial/.git/objects/eb/8a47855a28d160b3e92a3d1523b47c9276ab92\n",
            "rectangle expression2 OpenCV(4.1.2) /io/opencv/modules/imgproc/src/color.cpp:182: error: (-215:Assertion failed) !_src.empty() in function 'cvtColor'\n",
            "\n",
            "path_to_image images-tutorial/.git/objects/09/4032c6599aa7f1df8deef52a357ddbb51ce5d6\n",
            "rectangle expression2 OpenCV(4.1.2) /io/opencv/modules/imgproc/src/color.cpp:182: error: (-215:Assertion failed) !_src.empty() in function 'cvtColor'\n",
            "\n",
            "path_to_image images-tutorial/.git/objects/ab/d42a04fd78d9f68021b20a70b34c07f3244400\n",
            "rectangle expression2 OpenCV(4.1.2) /io/opencv/modules/imgproc/src/color.cpp:182: error: (-215:Assertion failed) !_src.empty() in function 'cvtColor'\n",
            "\n",
            "path_to_image images-tutorial/.git/objects/3d/e918cad7b3301f4bbe7fb770b23f2fd54bcf6e\n",
            "rectangle expression2 OpenCV(4.1.2) /io/opencv/modules/imgproc/src/color.cpp:182: error: (-215:Assertion failed) !_src.empty() in function 'cvtColor'\n",
            "\n",
            "path_to_image images-tutorial/.git/objects/b8/0610c499dff02728c95c2d427daaab4112168a\n",
            "rectangle expression2 OpenCV(4.1.2) /io/opencv/modules/imgproc/src/color.cpp:182: error: (-215:Assertion failed) !_src.empty() in function 'cvtColor'\n",
            "\n",
            "path_to_image images-tutorial/.git/objects/71/090cb3f017e04c6ab6271e37da40f31516fb47\n",
            "rectangle expression2 OpenCV(4.1.2) /io/opencv/modules/imgproc/src/color.cpp:182: error: (-215:Assertion failed) !_src.empty() in function 'cvtColor'\n",
            "\n",
            "path_to_image images-tutorial/.git/objects/c3/1a6a63200df6053c3fe69cac7350f420fe1478\n",
            "rectangle expression2 OpenCV(4.1.2) /io/opencv/modules/imgproc/src/color.cpp:182: error: (-215:Assertion failed) !_src.empty() in function 'cvtColor'\n",
            "\n",
            "path_to_image images-tutorial/.git/objects/61/f42d5f56cd60eb8e140be8f73728d8f3c86488\n",
            "rectangle expression2 OpenCV(4.1.2) /io/opencv/modules/imgproc/src/color.cpp:182: error: (-215:Assertion failed) !_src.empty() in function 'cvtColor'\n",
            "\n",
            "path_to_image images-tutorial/.git/objects/c5/db2597ef721a67e302f4afb74c5910c70e5c67\n",
            "rectangle expression2 OpenCV(4.1.2) /io/opencv/modules/imgproc/src/color.cpp:182: error: (-215:Assertion failed) !_src.empty() in function 'cvtColor'\n",
            "\n",
            "path_to_image images-tutorial/.git/objects/f5/23b984f3b8d29aaa5aed982b55a797fabbb8d4\n",
            "rectangle expression2 OpenCV(4.1.2) /io/opencv/modules/imgproc/src/color.cpp:182: error: (-215:Assertion failed) !_src.empty() in function 'cvtColor'\n",
            "\n",
            "path_to_image images-tutorial/.git/objects/80/6022d68de63a1ef2e202010e0aa40c64522a7c\n",
            "rectangle expression2 OpenCV(4.1.2) /io/opencv/modules/imgproc/src/color.cpp:182: error: (-215:Assertion failed) !_src.empty() in function 'cvtColor'\n",
            "\n",
            "path_to_image images-tutorial/.git/objects/6a/5efb703ead3dfa92442c3ba762c57a187cfbe0\n",
            "rectangle expression2 OpenCV(4.1.2) /io/opencv/modules/imgproc/src/color.cpp:182: error: (-215:Assertion failed) !_src.empty() in function 'cvtColor'\n",
            "\n",
            "path_to_image images-tutorial/.git/objects/70/cd5bfef1af2b2246bb0b87d294fdec43a2ce1c\n",
            "rectangle expression2 OpenCV(4.1.2) /io/opencv/modules/imgproc/src/color.cpp:182: error: (-215:Assertion failed) !_src.empty() in function 'cvtColor'\n",
            "\n",
            "path_to_image images-tutorial/.git/objects/f1/be9e5c440ec9bd7712c21e420ab583b1698f58\n",
            "rectangle expression2 OpenCV(4.1.2) /io/opencv/modules/imgproc/src/color.cpp:182: error: (-215:Assertion failed) !_src.empty() in function 'cvtColor'\n",
            "\n",
            "path_to_image images-tutorial/.git/objects/d0/9144eef3eb55d7b77709dde1266dc6da8ff004\n",
            "rectangle expression2 OpenCV(4.1.2) /io/opencv/modules/imgproc/src/color.cpp:182: error: (-215:Assertion failed) !_src.empty() in function 'cvtColor'\n",
            "\n",
            "path_to_image images-tutorial/.git/objects/58/cd8ed390105238937acc43e0ffbbfe300b091b\n",
            "rectangle expression2 OpenCV(4.1.2) /io/opencv/modules/imgproc/src/color.cpp:182: error: (-215:Assertion failed) !_src.empty() in function 'cvtColor'\n",
            "\n",
            "path_to_image images-tutorial/.git/objects/e3/4fe3328eb4a4208ee88cce7a91c97a7fb03d42\n",
            "rectangle expression2 OpenCV(4.1.2) /io/opencv/modules/imgproc/src/color.cpp:182: error: (-215:Assertion failed) !_src.empty() in function 'cvtColor'\n",
            "\n",
            "path_to_image images-tutorial/.git/objects/0c/80ded5b754a460f7a2317df98ef669e4f4083b\n",
            "rectangle expression2 OpenCV(4.1.2) /io/opencv/modules/imgproc/src/color.cpp:182: error: (-215:Assertion failed) !_src.empty() in function 'cvtColor'\n",
            "\n",
            "path_to_image images-tutorial/.git/objects/56/c7120f3942049f3e6e3ad72c2ae1a94a9ae95a\n",
            "rectangle expression2 OpenCV(4.1.2) /io/opencv/modules/imgproc/src/color.cpp:182: error: (-215:Assertion failed) !_src.empty() in function 'cvtColor'\n",
            "\n",
            "path_to_image images-tutorial/.git/objects/57/3cb53eec5bb2c6eb0cc77c278d4c5e9d695b34\n",
            "rectangle expression2 OpenCV(4.1.2) /io/opencv/modules/imgproc/src/color.cpp:182: error: (-215:Assertion failed) !_src.empty() in function 'cvtColor'\n",
            "\n",
            "invalid_image objects\n",
            "name refs\n",
            "path_to_image images-tutorial/.git/refs/remotes/origin/HEAD\n",
            "rectangle expression2 OpenCV(4.1.2) /io/opencv/modules/imgproc/src/color.cpp:182: error: (-215:Assertion failed) !_src.empty() in function 'cvtColor'\n",
            "\n",
            "path_to_image images-tutorial/.git/refs/heads/main\n",
            "rectangle expression2 OpenCV(4.1.2) /io/opencv/modules/imgproc/src/color.cpp:182: error: (-215:Assertion failed) !_src.empty() in function 'cvtColor'\n",
            "\n",
            "invalid_image refs\n",
            "name logs\n",
            "path_to_image images-tutorial/.git/logs/HEAD\n",
            "rectangle expression2 OpenCV(4.1.2) /io/opencv/modules/imgproc/src/color.cpp:182: error: (-215:Assertion failed) !_src.empty() in function 'cvtColor'\n",
            "\n",
            "path_to_image images-tutorial/.git/logs/refs/remotes/origin/HEAD\n",
            "rectangle expression2 OpenCV(4.1.2) /io/opencv/modules/imgproc/src/color.cpp:182: error: (-215:Assertion failed) !_src.empty() in function 'cvtColor'\n",
            "\n",
            "path_to_image images-tutorial/.git/logs/refs/heads/main\n",
            "rectangle expression2 OpenCV(4.1.2) /io/opencv/modules/imgproc/src/color.cpp:182: error: (-215:Assertion failed) !_src.empty() in function 'cvtColor'\n",
            "\n",
            "invalid_image logs\n",
            "name branches\n",
            "name hooks\n",
            "path_to_image images-tutorial/.git/hooks/prepare-commit-msg.sample\n",
            "rectangle expression2 OpenCV(4.1.2) /io/opencv/modules/imgproc/src/color.cpp:182: error: (-215:Assertion failed) !_src.empty() in function 'cvtColor'\n",
            "\n",
            "path_to_image images-tutorial/.git/hooks/pre-receive.sample\n",
            "rectangle expression2 OpenCV(4.1.2) /io/opencv/modules/imgproc/src/color.cpp:182: error: (-215:Assertion failed) !_src.empty() in function 'cvtColor'\n",
            "\n",
            "path_to_image images-tutorial/.git/hooks/post-update.sample\n",
            "rectangle expression2 OpenCV(4.1.2) /io/opencv/modules/imgproc/src/color.cpp:182: error: (-215:Assertion failed) !_src.empty() in function 'cvtColor'\n",
            "\n",
            "path_to_image images-tutorial/.git/hooks/fsmonitor-watchman.sample\n",
            "rectangle expression2 OpenCV(4.1.2) /io/opencv/modules/imgproc/src/color.cpp:182: error: (-215:Assertion failed) !_src.empty() in function 'cvtColor'\n",
            "\n",
            "path_to_image images-tutorial/.git/hooks/pre-rebase.sample\n",
            "rectangle expression2 OpenCV(4.1.2) /io/opencv/modules/imgproc/src/color.cpp:182: error: (-215:Assertion failed) !_src.empty() in function 'cvtColor'\n",
            "\n",
            "path_to_image images-tutorial/.git/hooks/pre-applypatch.sample\n",
            "rectangle expression2 OpenCV(4.1.2) /io/opencv/modules/imgproc/src/color.cpp:182: error: (-215:Assertion failed) !_src.empty() in function 'cvtColor'\n",
            "\n",
            "path_to_image images-tutorial/.git/hooks/pre-commit.sample\n",
            "rectangle expression2 OpenCV(4.1.2) /io/opencv/modules/imgproc/src/color.cpp:182: error: (-215:Assertion failed) !_src.empty() in function 'cvtColor'\n",
            "\n",
            "path_to_image images-tutorial/.git/hooks/pre-push.sample\n",
            "rectangle expression2 OpenCV(4.1.2) /io/opencv/modules/imgproc/src/color.cpp:182: error: (-215:Assertion failed) !_src.empty() in function 'cvtColor'\n",
            "\n",
            "path_to_image images-tutorial/.git/hooks/commit-msg.sample\n",
            "rectangle expression2 OpenCV(4.1.2) /io/opencv/modules/imgproc/src/color.cpp:182: error: (-215:Assertion failed) !_src.empty() in function 'cvtColor'\n",
            "\n",
            "path_to_image images-tutorial/.git/hooks/update.sample\n",
            "rectangle expression2 OpenCV(4.1.2) /io/opencv/modules/imgproc/src/color.cpp:182: error: (-215:Assertion failed) !_src.empty() in function 'cvtColor'\n",
            "\n",
            "path_to_image images-tutorial/.git/hooks/applypatch-msg.sample\n",
            "rectangle expression2 OpenCV(4.1.2) /io/opencv/modules/imgproc/src/color.cpp:182: error: (-215:Assertion failed) !_src.empty() in function 'cvtColor'\n",
            "\n",
            "invalid_image hooks\n",
            "name info\n",
            "path_to_image images-tutorial/.git/info/exclude\n",
            "rectangle expression2 OpenCV(4.1.2) /io/opencv/modules/imgproc/src/color.cpp:182: error: (-215:Assertion failed) !_src.empty() in function 'cvtColor'\n",
            "\n",
            "invalid_image info\n",
            "name 0002\n",
            "path_to_image images-tutorial/0002/0002_000.bmp\n",
            "path_to_image images-tutorial/0002/0002_017.bmp\n",
            "path_to_image images-tutorial/0002/0002_015.bmp\n",
            "path_to_image images-tutorial/0002/0002_008.bmp\n",
            "locate expression 1 local variable 'east_mark' referenced before assignment\n",
            "rectangle expression2 not enough values to unpack (expected 2, got 1)\n",
            "path_to_image images-tutorial/0002/0002_014.bmp\n",
            "path_to_image images-tutorial/0002/0002_018.bmp\n",
            "path_to_image images-tutorial/0002/0002_007.bmp\n",
            "path_to_image images-tutorial/0002/0002_010.bmp\n",
            "path_to_image images-tutorial/0002/0002_016.bmp\n",
            "path_to_image images-tutorial/0002/0002_013.bmp\n",
            "path_to_image images-tutorial/0002/0002_019.bmp\n",
            "locate expression 1 local variable 'east_mark' referenced before assignment\n",
            "rectangle expression2 not enough values to unpack (expected 2, got 1)\n",
            "path_to_image images-tutorial/0002/0002_004.bmp\n",
            "path_to_image images-tutorial/0002/0002_009.bmp\n",
            "path_to_image images-tutorial/0002/0002_003.bmp\n",
            "rectangle expression1\n",
            "path_to_image images-tutorial/0002/0002_012.bmp\n",
            "locate expression 1 local variable 'east_mark' referenced before assignment\n",
            "rectangle expression2 not enough values to unpack (expected 2, got 1)\n",
            "path_to_image images-tutorial/0002/0002_002.bmp\n",
            "path_to_image images-tutorial/0002/0002_011.bmp\n",
            "locate expression 1 local variable 'east_mark' referenced before assignment\n",
            "rectangle expression2 not enough values to unpack (expected 2, got 1)\n",
            "path_to_image images-tutorial/0002/0002_005.bmp\n",
            "locate expression 1 local variable 'east_mark' referenced before assignment\n",
            "rectangle expression2 not enough values to unpack (expected 2, got 1)\n",
            "path_to_image images-tutorial/0002/0002_001.bmp\n",
            "path_to_image images-tutorial/0002/0002_006.bmp\n",
            "locate expression 1 local variable 'east_mark' referenced before assignment\n",
            "rectangle expression2 not enough values to unpack (expected 2, got 1)\n",
            "invalid_image 0002\n",
            "name .git\n",
            "path_to_image images-tutorial/.git/index\n",
            "rectangle expression2 OpenCV(4.1.2) /io/opencv/modules/imgproc/src/color.cpp:182: error: (-215:Assertion failed) !_src.empty() in function 'cvtColor'\n",
            "\n",
            "path_to_image images-tutorial/.git/config\n",
            "rectangle expression2 OpenCV(4.1.2) /io/opencv/modules/imgproc/src/color.cpp:182: error: (-215:Assertion failed) !_src.empty() in function 'cvtColor'\n",
            "\n",
            "path_to_image images-tutorial/.git/packed-refs\n",
            "rectangle expression2 OpenCV(4.1.2) /io/opencv/modules/imgproc/src/color.cpp:182: error: (-215:Assertion failed) !_src.empty() in function 'cvtColor'\n",
            "\n",
            "path_to_image images-tutorial/.git/HEAD\n",
            "rectangle expression2 OpenCV(4.1.2) /io/opencv/modules/imgproc/src/color.cpp:182: error: (-215:Assertion failed) !_src.empty() in function 'cvtColor'\n",
            "\n",
            "path_to_image images-tutorial/.git/description\n",
            "rectangle expression2 OpenCV(4.1.2) /io/opencv/modules/imgproc/src/color.cpp:182: error: (-215:Assertion failed) !_src.empty() in function 'cvtColor'\n",
            "\n",
            "path_to_image images-tutorial/.git/objects/76/f6267b3a7f725eb412bd71ea7214f45536826a\n",
            "rectangle expression2 OpenCV(4.1.2) /io/opencv/modules/imgproc/src/color.cpp:182: error: (-215:Assertion failed) !_src.empty() in function 'cvtColor'\n",
            "\n",
            "path_to_image images-tutorial/.git/objects/32/99b592090de79351bc585faef4d63369083620\n",
            "rectangle expression2 OpenCV(4.1.2) /io/opencv/modules/imgproc/src/color.cpp:182: error: (-215:Assertion failed) !_src.empty() in function 'cvtColor'\n",
            "\n",
            "path_to_image images-tutorial/.git/objects/b1/657592fc0a716bfc4959a1475663e425d3c4c1\n",
            "rectangle expression2 OpenCV(4.1.2) /io/opencv/modules/imgproc/src/color.cpp:182: error: (-215:Assertion failed) !_src.empty() in function 'cvtColor'\n",
            "\n",
            "path_to_image images-tutorial/.git/objects/eb/8a47855a28d160b3e92a3d1523b47c9276ab92\n",
            "rectangle expression2 OpenCV(4.1.2) /io/opencv/modules/imgproc/src/color.cpp:182: error: (-215:Assertion failed) !_src.empty() in function 'cvtColor'\n",
            "\n",
            "path_to_image images-tutorial/.git/objects/09/4032c6599aa7f1df8deef52a357ddbb51ce5d6\n",
            "rectangle expression2 OpenCV(4.1.2) /io/opencv/modules/imgproc/src/color.cpp:182: error: (-215:Assertion failed) !_src.empty() in function 'cvtColor'\n",
            "\n",
            "path_to_image images-tutorial/.git/objects/ab/d42a04fd78d9f68021b20a70b34c07f3244400\n",
            "rectangle expression2 OpenCV(4.1.2) /io/opencv/modules/imgproc/src/color.cpp:182: error: (-215:Assertion failed) !_src.empty() in function 'cvtColor'\n",
            "\n",
            "path_to_image images-tutorial/.git/objects/3d/e918cad7b3301f4bbe7fb770b23f2fd54bcf6e\n",
            "rectangle expression2 OpenCV(4.1.2) /io/opencv/modules/imgproc/src/color.cpp:182: error: (-215:Assertion failed) !_src.empty() in function 'cvtColor'\n",
            "\n",
            "path_to_image images-tutorial/.git/objects/b8/0610c499dff02728c95c2d427daaab4112168a\n",
            "rectangle expression2 OpenCV(4.1.2) /io/opencv/modules/imgproc/src/color.cpp:182: error: (-215:Assertion failed) !_src.empty() in function 'cvtColor'\n",
            "\n",
            "path_to_image images-tutorial/.git/objects/71/090cb3f017e04c6ab6271e37da40f31516fb47\n",
            "rectangle expression2 OpenCV(4.1.2) /io/opencv/modules/imgproc/src/color.cpp:182: error: (-215:Assertion failed) !_src.empty() in function 'cvtColor'\n",
            "\n",
            "path_to_image images-tutorial/.git/objects/c3/1a6a63200df6053c3fe69cac7350f420fe1478\n",
            "rectangle expression2 OpenCV(4.1.2) /io/opencv/modules/imgproc/src/color.cpp:182: error: (-215:Assertion failed) !_src.empty() in function 'cvtColor'\n",
            "\n",
            "path_to_image images-tutorial/.git/objects/61/f42d5f56cd60eb8e140be8f73728d8f3c86488\n",
            "rectangle expression2 OpenCV(4.1.2) /io/opencv/modules/imgproc/src/color.cpp:182: error: (-215:Assertion failed) !_src.empty() in function 'cvtColor'\n",
            "\n",
            "path_to_image images-tutorial/.git/objects/c5/db2597ef721a67e302f4afb74c5910c70e5c67\n",
            "rectangle expression2 OpenCV(4.1.2) /io/opencv/modules/imgproc/src/color.cpp:182: error: (-215:Assertion failed) !_src.empty() in function 'cvtColor'\n",
            "\n",
            "path_to_image images-tutorial/.git/objects/f5/23b984f3b8d29aaa5aed982b55a797fabbb8d4\n",
            "rectangle expression2 OpenCV(4.1.2) /io/opencv/modules/imgproc/src/color.cpp:182: error: (-215:Assertion failed) !_src.empty() in function 'cvtColor'\n",
            "\n",
            "path_to_image images-tutorial/.git/objects/80/6022d68de63a1ef2e202010e0aa40c64522a7c\n",
            "rectangle expression2 OpenCV(4.1.2) /io/opencv/modules/imgproc/src/color.cpp:182: error: (-215:Assertion failed) !_src.empty() in function 'cvtColor'\n",
            "\n",
            "path_to_image images-tutorial/.git/objects/6a/5efb703ead3dfa92442c3ba762c57a187cfbe0\n",
            "rectangle expression2 OpenCV(4.1.2) /io/opencv/modules/imgproc/src/color.cpp:182: error: (-215:Assertion failed) !_src.empty() in function 'cvtColor'\n",
            "\n",
            "path_to_image images-tutorial/.git/objects/70/cd5bfef1af2b2246bb0b87d294fdec43a2ce1c\n",
            "rectangle expression2 OpenCV(4.1.2) /io/opencv/modules/imgproc/src/color.cpp:182: error: (-215:Assertion failed) !_src.empty() in function 'cvtColor'\n",
            "\n",
            "path_to_image images-tutorial/.git/objects/f1/be9e5c440ec9bd7712c21e420ab583b1698f58\n",
            "rectangle expression2 OpenCV(4.1.2) /io/opencv/modules/imgproc/src/color.cpp:182: error: (-215:Assertion failed) !_src.empty() in function 'cvtColor'\n",
            "\n",
            "path_to_image images-tutorial/.git/objects/d0/9144eef3eb55d7b77709dde1266dc6da8ff004\n",
            "rectangle expression2 OpenCV(4.1.2) /io/opencv/modules/imgproc/src/color.cpp:182: error: (-215:Assertion failed) !_src.empty() in function 'cvtColor'\n",
            "\n",
            "path_to_image images-tutorial/.git/objects/58/cd8ed390105238937acc43e0ffbbfe300b091b\n",
            "rectangle expression2 OpenCV(4.1.2) /io/opencv/modules/imgproc/src/color.cpp:182: error: (-215:Assertion failed) !_src.empty() in function 'cvtColor'\n",
            "\n",
            "path_to_image images-tutorial/.git/objects/e3/4fe3328eb4a4208ee88cce7a91c97a7fb03d42\n",
            "rectangle expression2 OpenCV(4.1.2) /io/opencv/modules/imgproc/src/color.cpp:182: error: (-215:Assertion failed) !_src.empty() in function 'cvtColor'\n",
            "\n",
            "path_to_image images-tutorial/.git/objects/0c/80ded5b754a460f7a2317df98ef669e4f4083b\n",
            "rectangle expression2 OpenCV(4.1.2) /io/opencv/modules/imgproc/src/color.cpp:182: error: (-215:Assertion failed) !_src.empty() in function 'cvtColor'\n",
            "\n",
            "path_to_image images-tutorial/.git/objects/56/c7120f3942049f3e6e3ad72c2ae1a94a9ae95a\n",
            "rectangle expression2 OpenCV(4.1.2) /io/opencv/modules/imgproc/src/color.cpp:182: error: (-215:Assertion failed) !_src.empty() in function 'cvtColor'\n",
            "\n",
            "path_to_image images-tutorial/.git/objects/57/3cb53eec5bb2c6eb0cc77c278d4c5e9d695b34\n",
            "rectangle expression2 OpenCV(4.1.2) /io/opencv/modules/imgproc/src/color.cpp:182: error: (-215:Assertion failed) !_src.empty() in function 'cvtColor'\n",
            "\n",
            "path_to_image images-tutorial/.git/refs/remotes/origin/HEAD\n",
            "rectangle expression2 OpenCV(4.1.2) /io/opencv/modules/imgproc/src/color.cpp:182: error: (-215:Assertion failed) !_src.empty() in function 'cvtColor'\n",
            "\n",
            "path_to_image images-tutorial/.git/refs/heads/main\n",
            "rectangle expression2 OpenCV(4.1.2) /io/opencv/modules/imgproc/src/color.cpp:182: error: (-215:Assertion failed) !_src.empty() in function 'cvtColor'\n",
            "\n",
            "path_to_image images-tutorial/.git/logs/HEAD\n",
            "rectangle expression2 OpenCV(4.1.2) /io/opencv/modules/imgproc/src/color.cpp:182: error: (-215:Assertion failed) !_src.empty() in function 'cvtColor'\n",
            "\n",
            "path_to_image images-tutorial/.git/logs/refs/remotes/origin/HEAD\n",
            "rectangle expression2 OpenCV(4.1.2) /io/opencv/modules/imgproc/src/color.cpp:182: error: (-215:Assertion failed) !_src.empty() in function 'cvtColor'\n",
            "\n",
            "path_to_image images-tutorial/.git/logs/refs/heads/main\n",
            "rectangle expression2 OpenCV(4.1.2) /io/opencv/modules/imgproc/src/color.cpp:182: error: (-215:Assertion failed) !_src.empty() in function 'cvtColor'\n",
            "\n",
            "path_to_image images-tutorial/.git/hooks/prepare-commit-msg.sample\n",
            "rectangle expression2 OpenCV(4.1.2) /io/opencv/modules/imgproc/src/color.cpp:182: error: (-215:Assertion failed) !_src.empty() in function 'cvtColor'\n",
            "\n",
            "path_to_image images-tutorial/.git/hooks/pre-receive.sample\n",
            "rectangle expression2 OpenCV(4.1.2) /io/opencv/modules/imgproc/src/color.cpp:182: error: (-215:Assertion failed) !_src.empty() in function 'cvtColor'\n",
            "\n",
            "path_to_image images-tutorial/.git/hooks/post-update.sample\n",
            "rectangle expression2 OpenCV(4.1.2) /io/opencv/modules/imgproc/src/color.cpp:182: error: (-215:Assertion failed) !_src.empty() in function 'cvtColor'\n",
            "\n",
            "path_to_image images-tutorial/.git/hooks/fsmonitor-watchman.sample\n",
            "rectangle expression2 OpenCV(4.1.2) /io/opencv/modules/imgproc/src/color.cpp:182: error: (-215:Assertion failed) !_src.empty() in function 'cvtColor'\n",
            "\n",
            "path_to_image images-tutorial/.git/hooks/pre-rebase.sample\n",
            "rectangle expression2 OpenCV(4.1.2) /io/opencv/modules/imgproc/src/color.cpp:182: error: (-215:Assertion failed) !_src.empty() in function 'cvtColor'\n",
            "\n",
            "path_to_image images-tutorial/.git/hooks/pre-applypatch.sample\n",
            "rectangle expression2 OpenCV(4.1.2) /io/opencv/modules/imgproc/src/color.cpp:182: error: (-215:Assertion failed) !_src.empty() in function 'cvtColor'\n",
            "\n",
            "path_to_image images-tutorial/.git/hooks/pre-commit.sample\n",
            "rectangle expression2 OpenCV(4.1.2) /io/opencv/modules/imgproc/src/color.cpp:182: error: (-215:Assertion failed) !_src.empty() in function 'cvtColor'\n",
            "\n",
            "path_to_image images-tutorial/.git/hooks/pre-push.sample\n",
            "rectangle expression2 OpenCV(4.1.2) /io/opencv/modules/imgproc/src/color.cpp:182: error: (-215:Assertion failed) !_src.empty() in function 'cvtColor'\n",
            "\n",
            "path_to_image images-tutorial/.git/hooks/commit-msg.sample\n",
            "rectangle expression2 OpenCV(4.1.2) /io/opencv/modules/imgproc/src/color.cpp:182: error: (-215:Assertion failed) !_src.empty() in function 'cvtColor'\n",
            "\n",
            "path_to_image images-tutorial/.git/hooks/update.sample\n",
            "rectangle expression2 OpenCV(4.1.2) /io/opencv/modules/imgproc/src/color.cpp:182: error: (-215:Assertion failed) !_src.empty() in function 'cvtColor'\n",
            "\n",
            "path_to_image images-tutorial/.git/hooks/applypatch-msg.sample\n",
            "rectangle expression2 OpenCV(4.1.2) /io/opencv/modules/imgproc/src/color.cpp:182: error: (-215:Assertion failed) !_src.empty() in function 'cvtColor'\n",
            "\n",
            "path_to_image images-tutorial/.git/info/exclude\n",
            "rectangle expression2 OpenCV(4.1.2) /io/opencv/modules/imgproc/src/color.cpp:182: error: (-215:Assertion failed) !_src.empty() in function 'cvtColor'\n",
            "\n",
            "invalid_image .git\n",
            "train_db_model_path 4 4\n",
            "[INFO] serializing encodings...\n",
            "OK\n"
          ]
        },
        {
          "output_type": "execute_result",
          "data": {
            "text/plain": [
              "['pack', 'info', 'tags', 'branches']"
            ]
          },
          "metadata": {},
          "execution_count": 5
        }
      ]
    },
    {
      "cell_type": "code",
      "metadata": {
        "id": "5rVUcS4FANXl",
        "outputId": "49a132da-4a3f-49d5-f19e-3766be9771d4",
        "colab": {
          "base_uri": "https://localhost:8080/"
        }
      },
      "source": [
        "iris_name = G6_iris_recognition.iris_model_test(\"model.pickle\",\"images-tutorial/0002/0002_000.bmp\")\n",
        "print(iris_name!='unmatch')"
      ],
      "execution_count": 6,
      "outputs": [
        {
          "output_type": "stream",
          "name": "stdout",
          "text": [
            "True\n"
          ]
        }
      ]
    },
    {
      "cell_type": "markdown",
      "metadata": {
        "id": "KOgyXhOzsrw5"
      },
      "source": [
        "# **EXERCÍCIO**\n",
        "\n",
        "*   Construir um treinamento no módulo G6 com duas íris de cada uma das cinco primeiras pessoas (0001 a 0004) (clonar https://github.com/lucianosilva-github/images.git)\n",
        "*   Verificar a qualidade do treinamento testando cada uma das íris usadas no treinamento\n",
        "\n"
      ]
    },
    {
      "cell_type": "code",
      "metadata": {
        "id": "_aMjKV1KtklA",
        "outputId": "40fe314b-349f-437d-b17f-007627ba9b44",
        "colab": {
          "base_uri": "https://localhost:8080/"
        }
      },
      "source": [
        "#seu código vai aqui\n",
        "!git clone https://github.com/lucianosilva-github/images.git"
      ],
      "execution_count": 7,
      "outputs": [
        {
          "output_type": "stream",
          "name": "stdout",
          "text": [
            "Cloning into 'images'...\n",
            "remote: Enumerating objects: 113, done.\u001b[K\n",
            "remote: Counting objects: 100% (113/113), done.\u001b[K\n",
            "remote: Compressing objects: 100% (112/112), done.\u001b[K\n",
            "remote: Total 113 (delta 2), reused 0 (delta 0), pack-reused 0\u001b[K\n",
            "Receiving objects: 100% (113/113), 15.40 MiB | 6.65 MiB/s, done.\n",
            "Resolving deltas: 100% (2/2), done.\n"
          ]
        }
      ]
    },
    {
      "cell_type": "code",
      "metadata": {
        "id": "wHMObwhSZaYU",
        "outputId": "7ee91827-3dfa-462a-96f2-66340d049393",
        "colab": {
          "base_uri": "https://localhost:8080/"
        }
      },
      "source": [
        "import G6_iris_recognition\n",
        "G6_iris_recognition.iris_model_train(\"images/train-images\",\"model.pickle\")"
      ],
      "execution_count": 9,
      "outputs": [
        {
          "output_type": "stream",
          "name": "stdout",
          "text": [
            "directory_list ['images/train-images/.ipynb_checkpoints', 'images/train-images/0002', 'images/train-images/0003', 'images/train-images/0001', 'images/train-images/0004']\n",
            "name .ipynb_checkpoints\n",
            "name 0002\n",
            "path_to_image images/train-images/0002/0002_007.bmp\n",
            "path_to_image images/train-images/0002/0002_013.bmp\n",
            "name 0003\n",
            "path_to_image images/train-images/0003/0003_015.bmp\n",
            "locate expression 1 local variable 'east_mark' referenced before assignment\n",
            "rectangle expression2 not enough values to unpack (expected 2, got 1)\n",
            "path_to_image images/train-images/0003/0003_017.bmp\n",
            "locate expression 1 local variable 'east_mark' referenced before assignment\n",
            "rectangle expression2 not enough values to unpack (expected 2, got 1)\n",
            "invalid_image 0003\n",
            "name 0001\n",
            "path_to_image images/train-images/0001/0001_005.bmp\n",
            "locate expression 1 local variable 'east_mark' referenced before assignment\n",
            "rectangle expression2 not enough values to unpack (expected 2, got 1)\n",
            "path_to_image images/train-images/0001/0001_018.bmp\n",
            "locate expression 1 local variable 'east_mark' referenced before assignment\n",
            "rectangle expression2 not enough values to unpack (expected 2, got 1)\n",
            "invalid_image 0001\n",
            "name 0004\n",
            "path_to_image images/train-images/0004/0004_001.bmp\n",
            "path_to_image images/train-images/0004/0004_007.bmp\n",
            "train_db_model_path 3 3\n",
            "[INFO] serializing encodings...\n",
            "OK\n"
          ]
        },
        {
          "output_type": "execute_result",
          "data": {
            "text/plain": [
              "['.ipynb_checkpoints', '0002', '0004']"
            ]
          },
          "metadata": {},
          "execution_count": 9
        }
      ]
    },
    {
      "cell_type": "code",
      "metadata": {
        "id": "_KTzPWJXeCfU",
        "outputId": "a2179ec3-2986-4e4f-8365-065ad414cf5b",
        "colab": {
          "base_uri": "https://localhost:8080/"
        }
      },
      "source": [
        "lista = [\"005\", \"018\",\"007\", \"013\", \"015\", \"017\", \"001\", \"007\" ]\n",
        "j = 0\n",
        "for i in range(4):\n",
        "  m = 0\n",
        "  while m != 2:\n",
        "    iris_name = G6_iris_recognition.iris_model_test(\"model.pickle\",f\"images/train-images/000{i + 1}/000{i + i}_{lista[j]}.bmp\")\n",
        "    m +=1 \n",
        "    j+=1\n",
        "  \n",
        "  print(iris_name!='unmatch')"
      ],
      "execution_count": 15,
      "outputs": [
        {
          "output_type": "stream",
          "name": "stdout",
          "text": [
            "image path not exist\n",
            "image path not exist\n",
            "True\n",
            "True\n",
            "image path not exist\n",
            "image path not exist\n",
            "True\n",
            "image path not exist\n",
            "image path not exist\n",
            "True\n"
          ]
        }
      ]
    },
    {
      "cell_type": "markdown",
      "metadata": {
        "id": "-bchKMRxtrJH"
      },
      "source": [
        "# **EXERCÍCIO**\n",
        "\n",
        "Será que a qualidade das imagens influencia na qualidade do treinamento ? Analise e experimente melhorar a qualidade das imagens usadas no exercício anterior, tendo como base as técnicas estudadas na disciplina até o momento."
      ]
    },
    {
      "cell_type": "code",
      "metadata": {
        "id": "mSXAXFsnuEeX"
      },
      "source": [
        "#seu código vai aqui"
      ],
      "execution_count": null,
      "outputs": []
    },
    {
      "cell_type": "markdown",
      "metadata": {
        "id": "J9SPAQQvuXrV"
      },
      "source": [
        "**PROJETO IRIS - DATA DE ENTREGA: 07/10/2020**\n",
        "\n",
        "\n",
        "*   Crie um modelo de treinamento usando a base de dados fornecida (60 pessoas com 20 íris cada ~ 1200 imagens). Durante o treinamento, você pode utilizar qualquer procedimento para melhorar a qualidade das imagens.\n",
        "*   Obtenha a matriz de confusão do seu modelo e analise os resultados\n",
        "\n",
        "**O que entregar:** notebook implementado em Python. \n",
        "\n",
        "\n"
      ]
    }
  ]
}